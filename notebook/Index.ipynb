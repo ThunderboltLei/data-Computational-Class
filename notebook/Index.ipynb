{
 "cells": [
  {
   "cell_type": "markdown",
   "metadata": {
    "slideshow": {
     "slide_type": "slide"
    }
   },
   "source": [
    "# Table of Contents\n"
   ]
  },
  {
   "cell_type": "markdown",
   "metadata": {
    "ExecuteTime": {
     "end_time": "2018-01-10T23:59:55.800440",
     "start_time": "2018-01-10T23:59:55.791787"
    },
    "slideshow": {
     "slide_type": "slide"
    }
   },
   "source": [
    "### Machine Learning\n",
    "\n",
    "- [What Is Machine Learning?](09.01-What-Is-Machine-Learning.ipynb)\n",
    "- [Introducing Scikit-Learn](09.02-Introducing-Scikit-Learn.ipynb)\n",
    "- [Hyperparameters and Model Validation](09.03-Hyperparameters-and-Model-Validation.ipynb)\n",
    "- [Feature Engineering](09.04-Feature-Engineering.ipynb)\n",
    "- [In Depth: Naive Bayes Classification](09.05-Naive-Bayes.ipynb)\n",
    "- [In Depth: Linear Regression](09.06-Linear-Regression.ipynb)\n",
    "- [In-Depth: Support Vector Machines](09.07-Support-Vector-Machines.ipynb)\n",
    "- [In-Depth: Decision Trees and Random Forests](09.08-Random-Forests.ipynb)\n",
    "- [In Depth: Principal Component Analysis](09.09-Principal-Component-Analysis.ipynb)\n",
    "- [In Depth: Neural Networks](09.09.neural_network.ipynb)\n",
    "- [In Depth: Neural Networks Advanced](09.10.neural_network_advanced.ipynb)\n",
    "\n"
   ]
  },
  {
   "cell_type": "code",
   "execution_count": null,
   "metadata": {},
   "outputs": [],
   "source": []
  }
 ],
 "metadata": {
  "anaconda-cloud": {},
  "celltoolbar": "Slideshow",
  "kernelspec": {
   "display_name": "Python [default]",
   "language": "python",
   "name": "python3"
  },
  "language_info": {
   "codemirror_mode": {
    "name": "ipython",
    "version": 3
   },
   "file_extension": ".py",
   "mimetype": "text/x-python",
   "name": "python",
   "nbconvert_exporter": "python",
   "pygments_lexer": "ipython3",
   "version": "3.5.4"
  },
  "latex_envs": {
   "LaTeX_envs_menu_present": true,
   "autoclose": false,
   "autocomplete": true,
   "bibliofile": "biblio.bib",
   "cite_by": "apalike",
   "current_citInitial": 1,
   "eqLabelWithNumbers": true,
   "eqNumInitial": 0,
   "hotkeys": {
    "equation": "Ctrl-E",
    "itemize": "Ctrl-I"
   },
   "labels_anchors": false,
   "latex_user_defs": false,
   "report_style_numbering": false,
   "user_envs_cfg": false
  },
  "toc": {
   "base_numbering": 1,
   "nav_menu": {},
   "number_sections": false,
   "sideBar": true,
   "skip_h1_title": false,
   "title_cell": "Table of Contents",
   "title_sidebar": "Contents",
   "toc_cell": false,
   "toc_position": {},
   "toc_section_display": false,
   "toc_window_display": true
  }
 },
 "nbformat": 4,
 "nbformat_minor": 1
}
